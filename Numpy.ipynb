{
 "cells": [
  {
   "cell_type": "code",
   "execution_count": 1,
   "id": "c3431fba",
   "metadata": {},
   "outputs": [],
   "source": [
    "import numpy as np"
   ]
  },
  {
   "cell_type": "code",
   "execution_count": 3,
   "id": "fcf5c547",
   "metadata": {},
   "outputs": [],
   "source": [
    "arr=np.array([10,12,14])"
   ]
  },
  {
   "cell_type": "code",
   "execution_count": 4,
   "id": "c8a461ee",
   "metadata": {},
   "outputs": [
    {
     "data": {
      "text/plain": [
       "10"
      ]
     },
     "execution_count": 4,
     "metadata": {},
     "output_type": "execute_result"
    }
   ],
   "source": [
    "arr[0]"
   ]
  },
  {
   "cell_type": "code",
   "execution_count": 5,
   "id": "a8b9f7ce",
   "metadata": {},
   "outputs": [
    {
     "data": {
      "text/plain": [
       "12"
      ]
     },
     "execution_count": 5,
     "metadata": {},
     "output_type": "execute_result"
    }
   ],
   "source": [
    "arr[1]"
   ]
  },
  {
   "cell_type": "code",
   "execution_count": 6,
   "id": "2668af99",
   "metadata": {},
   "outputs": [],
   "source": [
    "arr2D = np.array([[12,15],[34,55],[18,44],[90,80]])"
   ]
  },
  {
   "cell_type": "code",
   "execution_count": 7,
   "id": "69e50d39",
   "metadata": {},
   "outputs": [
    {
     "data": {
      "text/plain": [
       "15"
      ]
     },
     "execution_count": 7,
     "metadata": {},
     "output_type": "execute_result"
    }
   ],
   "source": [
    "arr2D[0][1]"
   ]
  },
  {
   "cell_type": "code",
   "execution_count": 8,
   "id": "ae444b8f",
   "metadata": {},
   "outputs": [
    {
     "data": {
      "text/plain": [
       "34"
      ]
     },
     "execution_count": 8,
     "metadata": {},
     "output_type": "execute_result"
    }
   ],
   "source": [
    "arr2D[1][0]"
   ]
  },
  {
   "cell_type": "code",
   "execution_count": 10,
   "id": "a45f539a",
   "metadata": {},
   "outputs": [
    {
     "data": {
      "text/plain": [
       "1"
      ]
     },
     "execution_count": 10,
     "metadata": {},
     "output_type": "execute_result"
    }
   ],
   "source": [
    "arr.ndim"
   ]
  },
  {
   "cell_type": "code",
   "execution_count": 11,
   "id": "6a4120bf",
   "metadata": {},
   "outputs": [
    {
     "data": {
      "text/plain": [
       "2"
      ]
     },
     "execution_count": 11,
     "metadata": {},
     "output_type": "execute_result"
    }
   ],
   "source": [
    "arr2D.ndim"
   ]
  },
  {
   "cell_type": "code",
   "execution_count": 13,
   "id": "6072ebf9",
   "metadata": {},
   "outputs": [
    {
     "data": {
      "text/plain": [
       "array([10., 12., 14.])"
      ]
     },
     "execution_count": 13,
     "metadata": {},
     "output_type": "execute_result"
    }
   ],
   "source": [
    "arr=np.array([10,12,14],dtype = np.float64)\n",
    "arr"
   ]
  },
  {
   "cell_type": "code",
   "execution_count": 16,
   "id": "c8f6f2c7",
   "metadata": {},
   "outputs": [
    {
     "name": "stdout",
     "output_type": "stream",
     "text": [
      "(4, 2)\n"
     ]
    },
    {
     "data": {
      "text/plain": [
       "array([[12, 15],\n",
       "       [34, 55],\n",
       "       [18, 44],\n",
       "       [90, 80]])"
      ]
     },
     "execution_count": 16,
     "metadata": {},
     "output_type": "execute_result"
    }
   ],
   "source": [
    "print(arr2D.shape)\n",
    "arr2D"
   ]
  },
  {
   "cell_type": "code",
   "execution_count": 19,
   "id": "076dfac1",
   "metadata": {},
   "outputs": [
    {
     "name": "stdout",
     "output_type": "stream",
     "text": [
      "0\n",
      "1\n",
      "2\n",
      "3\n",
      "4\n"
     ]
    },
    {
     "data": {
      "text/plain": [
       "array([0, 1, 2, 3, 4])"
      ]
     },
     "execution_count": 19,
     "metadata": {},
     "output_type": "execute_result"
    }
   ],
   "source": [
    "l = range(5)\n",
    "print(l[0])\n",
    "print(l[1])\n",
    "print(l[2])\n",
    "print(l[3])\n",
    "print(l[4])\n",
    "np.arange(5)"
   ]
  },
  {
   "cell_type": "code",
   "execution_count": 21,
   "id": "6ca187f9",
   "metadata": {},
   "outputs": [
    {
     "data": {
      "text/plain": [
       "array([[12, 15, 34, 55],\n",
       "       [18, 44, 90, 80]])"
      ]
     },
     "execution_count": 21,
     "metadata": {},
     "output_type": "execute_result"
    }
   ],
   "source": [
    "arr2D.reshape(2,4)"
   ]
  },
  {
   "cell_type": "code",
   "execution_count": 24,
   "id": "7925421b",
   "metadata": {},
   "outputs": [
    {
     "name": "stdout",
     "output_type": "stream",
     "text": [
      "10.0\n",
      "14.0\n"
     ]
    },
    {
     "data": {
      "text/plain": [
       "36.0"
      ]
     },
     "execution_count": 24,
     "metadata": {},
     "output_type": "execute_result"
    }
   ],
   "source": [
    "print(arr.min())\n",
    "print(arr.max())\n",
    "arr.sum()"
   ]
  },
  {
   "cell_type": "code",
   "execution_count": 27,
   "id": "ef816f24",
   "metadata": {
    "scrolled": true
   },
   "outputs": [
    {
     "name": "stdout",
     "output_type": "stream",
     "text": [
      "[[12 15]\n",
      " [34 55]\n",
      " [18 44]\n",
      " [90 80]]\n",
      "[154 194]\n",
      "[ 27  89  62 170]\n"
     ]
    }
   ],
   "source": [
    "print(arr2D)\n",
    "print(arr2D.sum(axis=0))\n",
    "print(arr2D.sum(axis=1))\n"
   ]
  },
  {
   "cell_type": "code",
   "execution_count": 31,
   "id": "073393a4",
   "metadata": {},
   "outputs": [
    {
     "name": "stdout",
     "output_type": "stream",
     "text": [
      "[3.16227766 3.46410162 3.74165739]\n",
      "1.632993161855452\n",
      "12.0\n",
      "12.0\n"
     ]
    }
   ],
   "source": [
    "print(np.sqrt(arr))\n",
    "print(np.std(arr))\n",
    "print(np.mean(arr))\n",
    "print(np.median(arr))"
   ]
  },
  {
   "cell_type": "code",
   "execution_count": 34,
   "id": "40a0439b",
   "metadata": {},
   "outputs": [
    {
     "name": "stdout",
     "output_type": "stream",
     "text": [
      "[[55 12]\n",
      " [69 32]] \n",
      "\n",
      "[[450  11]\n",
      " [770 255]] \n",
      "\n",
      "[[ 0.22222222 11.        ]\n",
      " [ 0.25454545  0.88235294]] \n",
      "\n",
      "[[1055  197]\n",
      " [1455  269]]\n"
     ]
    }
   ],
   "source": [
    "a = np.array([[10,11],[14,15]])\n",
    "b = np.array([[45,1],[55,17]])\n",
    "print(a+b,'\\n')\n",
    "print(a*b,'\\n')\n",
    "print(a/b,'\\n')\n",
    "print(a.dot(b))"
   ]
  },
  {
   "cell_type": "code",
   "execution_count": null,
   "id": "5f4dc38b",
   "metadata": {},
   "outputs": [],
   "source": []
  }
 ],
 "metadata": {
  "kernelspec": {
   "display_name": "Python 3 (ipykernel)",
   "language": "python",
   "name": "python3"
  },
  "language_info": {
   "codemirror_mode": {
    "name": "ipython",
    "version": 3
   },
   "file_extension": ".py",
   "mimetype": "text/x-python",
   "name": "python",
   "nbconvert_exporter": "python",
   "pygments_lexer": "ipython3",
   "version": "3.10.6"
  }
 },
 "nbformat": 4,
 "nbformat_minor": 5
}
